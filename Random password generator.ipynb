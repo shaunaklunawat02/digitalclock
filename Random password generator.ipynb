{
 "cells": [
  {
   "cell_type": "markdown",
   "metadata": {},
   "source": [
    "RANDOM PASSWORD GENERATOR."
   ]
  },
  {
   "cell_type": "code",
   "execution_count": 4,
   "metadata": {},
   "outputs": [
    {
     "name": "stdout",
     "output_type": "stream",
     "text": [
      "ENTER THE DISIRED LENGTH OF THE PASSWORD : 60\n",
      "Your password is :  5QXxI*N9WneZj?ziB1uwyLA%7ksl3VK+a8FGYD0vpMbUC4q2J6c_#o)PTHht\n"
     ]
    }
   ],
   "source": [
    "#IMPORT LIBRARY\n",
    "import random\n",
    "\n",
    "#Taking imput from user for the desired number of letters in the password\n",
    "passlen = int(input(\"ENTER THE DISIRED LENGTH OF THE PASSWORD : \"))\n",
    "\n",
    "#Specifing the characters that can be used to randomly generate password\n",
    "s=\"abcdefghijklmnopqrstuvwxyzABCDEFGHIJKLMNOPQRSTUVWXYZ0123456789@#$%*_+?)\"\n",
    "P=\"\".join(random.sample(s,passlen))\n",
    "\n",
    "#printing the randomly generated password\n",
    "print(\"Your password is : \",P)"
   ]
  },
  {
   "cell_type": "code",
   "execution_count": null,
   "metadata": {},
   "outputs": [],
   "source": []
  }
 ],
 "metadata": {
  "kernelspec": {
   "display_name": "Python 3",
   "language": "python",
   "name": "python3"
  },
  "language_info": {
   "codemirror_mode": {
    "name": "ipython",
    "version": 3
   },
   "file_extension": ".py",
   "mimetype": "text/x-python",
   "name": "python",
   "nbconvert_exporter": "python",
   "pygments_lexer": "ipython3",
   "version": "3.8.5"
  }
 },
 "nbformat": 4,
 "nbformat_minor": 4
}
